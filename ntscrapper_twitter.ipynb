{
 "cells": [
  {
   "cell_type": "code",
   "execution_count": null,
   "metadata": {
    "id": "TcU4a_LTR0Vs"
   },
   "outputs": [],
   "source": [
    "import pandas as pd"
   ]
  },
  {
   "cell_type": "code",
   "execution_count": null,
   "metadata": {
    "id": "7vCc33PDMZNm"
   },
   "outputs": [],
   "source": [
    "import csv"
   ]
  },
  {
   "cell_type": "code",
   "execution_count": null,
   "metadata": {
    "id": "ajYr7EX0hYuJ"
   },
   "outputs": [],
   "source": [
    "import json"
   ]
  },
  {
   "cell_type": "code",
   "execution_count": null,
   "metadata": {
    "colab": {
     "base_uri": "https://localhost:8080/"
    },
    "id": "NfJ9iUWUSAGd",
    "outputId": "c638eeee-29f7-4945-9797-ade90a2aee23"
   },
   "outputs": [],
   "source": [
    "pip install ntscraper"
   ]
  },
  {
   "cell_type": "code",
   "execution_count": null,
   "metadata": {
    "id": "G7RLs4QRSDsN"
   },
   "outputs": [],
   "source": [
    "from ntscraper import Nitter"
   ]
  },
  {
   "cell_type": "markdown",
   "metadata": {
    "id": "8SeDfFoKYYC1"
   },
   "source": [
    "###Nitter sınıfından scraper adında nesne örneği (instance) oluşturuyoruz. Çekmek istediğimiz her term için yeni bir nesne oluşturmamız gerekiyor. yani ölüm term ' i için scraper adını kullandık , katlederim term i için\n",
    "###scraper2 = Nitter() gibi başka bir intance oluşturarak o instance üzerinden çekmemiz gerekir."
   ]
  },
  {
   "cell_type": "code",
   "execution_count": null,
   "metadata": {
    "colab": {
     "base_uri": "https://localhost:8080/"
    },
    "id": "ugpOENDCSN-E",
    "outputId": "1a1ec6aa-3183-4a64-ec85-0c011fe20b21"
   },
   "outputs": [],
   "source": [
    "scraper = Nitter()"
   ]
  },
  {
   "cell_type": "markdown",
   "metadata": {
    "id": "zZvl6XteXwlF"
   },
   "source": [
    " ### tweets= scraper.get_tweets('aramakİstenenSözcük',mode='term', number=100)  \n",
    " ### burada mode'u term parametresi ile arama yapıyoruz. number çekmek istediğimiz sayıyı belirtiyor."
   ]
  },
  {
   "cell_type": "markdown",
   "metadata": {
    "id": "Uk6gEE9Haw7p"
   },
   "source": [
    "### Buradaki tweets ismini ikinci instance üzerinden çalışırken tweets2 vb. olarak düzeltebilirsiniz (opsiyonel)"
   ]
  },
  {
   "cell_type": "code",
   "execution_count": null,
   "metadata": {
    "colab": {
     "base_uri": "https://localhost:8080/"
    },
    "id": "5N3WDaOIStx6",
    "outputId": "719bb9da-45f6-481f-c207-67d3f3441037"
   },
   "outputs": [],
   "source": [
    "tweets = scraper.get_tweets('selam',mode='term', number=100)"
   ]
  },
  {
   "cell_type": "code",
   "execution_count": null,
   "metadata": {
    "colab": {
     "base_uri": "https://localhost:8080/"
    },
    "id": "QbrKdmAoBVvd",
    "outputId": "135e880c-58fa-4969-c148-44ce849e18b9"
   },
   "outputs": [],
   "source": [
    "type(tweets)"
   ]
  },
  {
   "cell_type": "code",
   "execution_count": null,
   "metadata": {
    "colab": {
     "base_uri": "https://localhost:8080/"
    },
    "id": "9Kps6_9zyaS6",
    "outputId": "e3a31094-648a-49cc-ffbe-6eed9c60c2f5",
    "scrolled": true
   },
   "outputs": [],
   "source": [
    "for tweet in tweets['tweets']:\n",
    "  print(tweet)\n",
    "  print('----------next------------')"
   ]
  },
  {
   "cell_type": "code",
   "execution_count": null,
   "metadata": {
    "id": "u5QqhsTIaF8K"
   },
   "outputs": [],
   "source": [
    "def flatten_tweet_data(tweet):\n",
    "    flattened_data = {\n",
    "        'user_username': tweet['user'].get('username'),\n",
    "        'user_name': tweet['user'].get('name'),\n",
    "        'user_profile_id': tweet['user'].get('profile_id'),\n",
    "        'text': tweet.get('text'),\n",
    "        'link': tweet.get('link'),\n",
    "        'date': tweet.get('date'),\n",
    "        'external_link': tweet.get('external-link'),\n",
    "        'replying_to': tweet.get('replying-to'),\n",
    "        'quoted_post': tweet.get('quoted-post'),\n",
    "    }\n",
    "    return flattened_data"
   ]
  },
  {
   "cell_type": "code",
   "execution_count": null,
   "metadata": {
    "id": "GVdF5Q4td7N0"
   },
   "outputs": [],
   "source": [
    "flattened_tweets = [flatten_tweet_data(tweet) for tweet in tweets['tweets']]"
   ]
  },
  {
   "cell_type": "code",
   "execution_count": null,
   "metadata": {
    "id": "IOXEK4ibhk5s"
   },
   "outputs": [],
   "source": [
    "df = pd.DataFrame(flattened_tweets)"
   ]
  },
  {
   "cell_type": "code",
   "execution_count": null,
   "metadata": {
    "id": "I2qnAuCzxq0a"
   },
   "outputs": [],
   "source": [
    "df.to_csv('tweets.csv')"
   ]
  },
  {
   "cell_type": "code",
   "execution_count": null,
   "metadata": {
    "id": "JeySZYIPz305"
   },
   "outputs": [],
   "source": [
    "df = pd.read_csv('tweets.csv')\n"
   ]
  },
  {
   "cell_type": "code",
   "execution_count": null,
   "metadata": {
    "colab": {
     "base_uri": "https://localhost:8080/",
     "height": 746
    },
    "id": "LBVkvkuzrsQ8",
    "outputId": "ec2ecf08-3b63-468d-afa9-96f8a86d4f27",
    "scrolled": true
   },
   "outputs": [],
   "source": [
    "df.head()"
   ]
  },
  {
   "cell_type": "code",
   "execution_count": null,
   "metadata": {},
   "outputs": [],
   "source": [
    "df.info()"
   ]
  },
  {
   "cell_type": "code",
   "execution_count": null,
   "metadata": {},
   "outputs": [],
   "source": []
  },
  {
   "cell_type": "code",
   "execution_count": null,
   "metadata": {},
   "outputs": [],
   "source": []
  },
  {
   "cell_type": "code",
   "execution_count": null,
   "metadata": {},
   "outputs": [],
   "source": []
  },
  {
   "cell_type": "code",
   "execution_count": null,
   "metadata": {},
   "outputs": [],
   "source": []
  },
  {
   "cell_type": "code",
   "execution_count": null,
   "metadata": {},
   "outputs": [],
   "source": []
  },
  {
   "cell_type": "code",
   "execution_count": null,
   "metadata": {},
   "outputs": [],
   "source": []
  }
 ],
 "metadata": {
  "colab": {
   "provenance": []
  },
  "kernelspec": {
   "display_name": "Python 3 (ipykernel)",
   "language": "python",
   "name": "python3"
  },
  "language_info": {
   "codemirror_mode": {
    "name": "ipython",
    "version": 3
   },
   "file_extension": ".py",
   "mimetype": "text/x-python",
   "name": "python",
   "nbconvert_exporter": "python",
   "pygments_lexer": "ipython3",
   "version": "3.11.7"
  }
 },
 "nbformat": 4,
 "nbformat_minor": 4
}
